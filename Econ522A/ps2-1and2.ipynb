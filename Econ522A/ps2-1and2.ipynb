{
 "cells": [
  {
   "cell_type": "markdown",
   "metadata": {},
   "source": [
    "## Problem Set 6 - Questions 1 and 2\n",
    "### David Zynda"
   ]
  },
  {
   "cell_type": "markdown",
   "metadata": {},
   "source": [
    "__Question 1__\n",
    "(a)"
   ]
  },
  {
   "cell_type": "code",
   "execution_count": 15,
   "metadata": {},
   "outputs": [
    {
     "data": {
      "text/plain": [
       "0.06333807045168227"
      ]
     },
     "execution_count": 15,
     "metadata": {},
     "output_type": "execute_result"
    }
   ],
   "source": [
    "import numpy as np\n",
    "import matplotlib.pyplot as plt\n",
    "\n",
    "np.random.seed(1234)\n",
    "\n",
    "M = 5\n",
    "obs = np.random.uniform(-0.5, 0.5, size=M)\n",
    "np.mean(obs)"
   ]
  },
  {
   "cell_type": "markdown",
   "metadata": {},
   "source": [
    "(b)"
   ]
  },
  {
   "cell_type": "code",
   "execution_count": 6,
   "metadata": {},
   "outputs": [],
   "source": [
    "N = 1000\n",
    "means = np.ones((N, 1))\n",
    "\n",
    "for i in range(0,N):\n",
    "    means[i,:] = np.mean(np.random.uniform(-0.5, 0.5, size=M))\n"
   ]
  },
  {
   "cell_type": "markdown",
   "metadata": {},
   "source": [
    "(c) I ran out of time to figure out matplotlib histograms. Here is a numerical one:"
   ]
  },
  {
   "cell_type": "code",
   "execution_count": 17,
   "metadata": {},
   "outputs": [
    {
     "data": {
      "text/plain": [
       "(array([  0,   0,   0,  71, 431, 419,  79,   0,   0,   0], dtype=int64),\n",
       " array([-1. , -0.8, -0.6, -0.4, -0.2,  0. ,  0.2,  0.4,  0.6,  0.8,  1. ]))"
      ]
     },
     "execution_count": 17,
     "metadata": {},
     "output_type": "execute_result"
    }
   ],
   "source": [
    "np.histogram(means, bins = 10, range = (-1, 1))\n"
   ]
  },
  {
   "cell_type": "raw",
   "metadata": {},
   "source": [
    "(d) "
   ]
  },
  {
   "cell_type": "code",
   "execution_count": 18,
   "metadata": {},
   "outputs": [
    {
     "data": {
      "text/plain": [
       "(array([  0,   0,   0,   0, 507, 492,   1,   0,   0,   0], dtype=int64),\n",
       " array([-1. , -0.8, -0.6, -0.4, -0.2,  0. ,  0.2,  0.4,  0.6,  0.8,  1. ]))"
      ]
     },
     "execution_count": 18,
     "metadata": {},
     "output_type": "execute_result"
    }
   ],
   "source": [
    "N = 1000\n",
    "M = 20\n",
    "means = np.ones((N, 1))\n",
    "\n",
    "for i in range(0,N):\n",
    "    means[i,:] = np.mean(np.random.uniform(-0.5, 0.5, size=M))\n",
    "    \n",
    "np.histogram(means, bins = 10, range = (-1, 1))"
   ]
  },
  {
   "cell_type": "markdown",
   "metadata": {},
   "source": [
    "(e) "
   ]
  },
  {
   "cell_type": "code",
   "execution_count": 19,
   "metadata": {},
   "outputs": [
    {
     "data": {
      "text/plain": [
       "(array([  0,   0,   0,   0, 491, 509,   0,   0,   0,   0], dtype=int64),\n",
       " array([-1. , -0.8, -0.6, -0.4, -0.2,  0. ,  0.2,  0.4,  0.6,  0.8,  1. ]))"
      ]
     },
     "execution_count": 19,
     "metadata": {},
     "output_type": "execute_result"
    }
   ],
   "source": [
    "N = 1000\n",
    "M = 80\n",
    "means = np.ones((N, 1))\n",
    "\n",
    "for i in range(0,N):\n",
    "    means[i,:] = np.mean(np.random.uniform(-0.5, 0.5, size=M))\n",
    "    \n",
    "np.histogram(means, bins = 10, range = (-1, 1))"
   ]
  },
  {
   "cell_type": "markdown",
   "metadata": {},
   "source": [
    "(f) see R markdown document"
   ]
  },
  {
   "cell_type": "markdown",
   "metadata": {},
   "source": [
    "__Question 2__ (a) and (b) see above. Below: (c) "
   ]
  },
  {
   "cell_type": "code",
   "execution_count": 21,
   "metadata": {},
   "outputs": [
    {
     "data": {
      "text/plain": [
       "(array([  3,  13,  73, 151, 240, 270, 170,  65,  14,   1], dtype=int64),\n",
       " array([-1. , -0.8, -0.6, -0.4, -0.2,  0. ,  0.2,  0.4,  0.6,  0.8,  1. ]))"
      ]
     },
     "execution_count": 21,
     "metadata": {},
     "output_type": "execute_result"
    }
   ],
   "source": [
    "N = 1000\n",
    "M = 5\n",
    "means = np.ones((N, 1))\n",
    "\n",
    "for i in range(0,N):\n",
    "    means[i,:] = np.mean(np.random.uniform(-0.5, 0.5, size=M))\n",
    "    \n",
    "np.histogram((np.sqrt(M) * means), bins = 10, range = (-1, 1))"
   ]
  },
  {
   "cell_type": "markdown",
   "metadata": {},
   "source": [
    "(d)"
   ]
  },
  {
   "cell_type": "code",
   "execution_count": 22,
   "metadata": {},
   "outputs": [
    {
     "data": {
      "text/plain": [
       "(array([  3,  17,  52, 168, 262, 255, 158,  66,  18,   1], dtype=int64),\n",
       " array([-1. , -0.8, -0.6, -0.4, -0.2,  0. ,  0.2,  0.4,  0.6,  0.8,  1. ]))"
      ]
     },
     "execution_count": 22,
     "metadata": {},
     "output_type": "execute_result"
    }
   ],
   "source": [
    "N = 1000\n",
    "M = 20\n",
    "means = np.ones((N, 1))\n",
    "\n",
    "for i in range(0,N):\n",
    "    means[i,:] = np.mean(np.random.uniform(-0.5, 0.5, size=M))\n",
    "    \n",
    "np.histogram((np.sqrt(M) * means), bins = 10, range = (-1, 1))"
   ]
  },
  {
   "cell_type": "markdown",
   "metadata": {},
   "source": [
    "(e) "
   ]
  },
  {
   "cell_type": "code",
   "execution_count": 24,
   "metadata": {},
   "outputs": [
    {
     "data": {
      "text/plain": [
       "(array([  3,  21,  80, 160, 270, 235, 144,  65,  17,   4], dtype=int64),\n",
       " array([-1. , -0.8, -0.6, -0.4, -0.2,  0. ,  0.2,  0.4,  0.6,  0.8,  1. ]))"
      ]
     },
     "execution_count": 24,
     "metadata": {},
     "output_type": "execute_result"
    }
   ],
   "source": [
    "N = 1000\n",
    "M = 80\n",
    "means = np.ones((N, 1))\n",
    "\n",
    "for i in range(0,N):\n",
    "    means[i,:] = np.mean(np.random.uniform(-0.5, 0.5, size=M))\n",
    "    \n",
    "np.histogram((np.sqrt(M) * means), bins = 10, range = (-1, 1))"
   ]
  }
 ],
 "metadata": {
  "kernelspec": {
   "display_name": "Python 3",
   "language": "python",
   "name": "python3"
  },
  "language_info": {
   "codemirror_mode": {
    "name": "ipython",
    "version": 3
   },
   "file_extension": ".py",
   "mimetype": "text/x-python",
   "name": "python",
   "nbconvert_exporter": "python",
   "pygments_lexer": "ipython3",
   "version": "3.6.5"
  }
 },
 "nbformat": 4,
 "nbformat_minor": 2
}
